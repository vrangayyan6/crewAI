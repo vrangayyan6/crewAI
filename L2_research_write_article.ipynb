{
 "cells": [
  {
   "cell_type": "markdown",
   "metadata": {},
   "source": [
    "You can download the `requirements.txt` for this course from the workspace of this lab. `File --> Open...`"
   ]
  },
  {
   "cell_type": "markdown",
   "metadata": {},
   "source": [
    "# L2: Create Agents to Research and Write an Article\n",
    "\n",
    "In this lesson, you will be introduced to the foundational concepts of multi-agent systems and get an overview of the crewAI framework."
   ]
  },
  {
   "cell_type": "markdown",
   "metadata": {},
   "source": [
    "The libraries are already installed in the classroom. If you're running this notebook on your own machine, you can install the following:\n",
    "```Python\n",
    "!pip install crewai==0.28.8 crewai_tools==0.1.6 langchain_community==0.0.29\n",
    "```"
   ]
  },
  {
   "cell_type": "code",
   "execution_count": 1,
   "metadata": {
    "height": 64
   },
   "outputs": [],
   "source": [
    "# Warning control\n",
    "import warnings\n",
    "warnings.filterwarnings('ignore')"
   ]
  },
  {
   "cell_type": "markdown",
   "metadata": {},
   "source": [
    "- Import from the crewAI libray."
   ]
  },
  {
   "cell_type": "code",
   "execution_count": 2,
   "metadata": {
    "height": 45
   },
   "outputs": [],
   "source": [
    "from crewai import Agent, Task, Crew"
   ]
  },
  {
   "cell_type": "markdown",
   "metadata": {},
   "source": [
    "- As a LLM for your agents, you'll be using OpenAI's `gpt-3.5-turbo`.\n",
    "\n",
    "**Optional Note:** crewAI also allow other popular models to be used as a LLM for your Agents. You can see some of the examples at the [bottom of the notebook](#1)."
   ]
  },
  {
   "cell_type": "code",
   "execution_count": 3,
   "metadata": {
    "height": 113
   },
   "outputs": [],
   "source": [
    "import os\n",
    "from utils import get_openai_api_key\n",
    "\n",
    "openai_api_key = get_openai_api_key()\n",
    "os.environ[\"OPENAI_MODEL_NAME\"] = 'gpt-3.5-turbo'"
   ]
  },
  {
   "cell_type": "markdown",
   "metadata": {},
   "source": [
    "## Creating Agents\n",
    "\n",
    "- Define your Agents, and provide them a `role`, `goal` and `backstory`.\n",
    "- It has been seen that LLMs perform better when they are role playing."
   ]
  },
  {
   "cell_type": "markdown",
   "metadata": {},
   "source": [
    "### Agent: Planner\n",
    "\n",
    "**Note**: The benefit of using _multiple strings_ :\n",
    "```Python\n",
    "varname = \"line 1 of text\"\n",
    "          \"line 2 of text\"\n",
    "```\n",
    "\n",
    "versus the _triple quote docstring_:\n",
    "```Python\n",
    "varname = \"\"\"line 1 of text\n",
    "             line 2 of text\n",
    "          \"\"\"\n",
    "```\n",
    "is that it can avoid adding those whitespaces and newline characters, making it better formatted to be passed to the LLM."
   ]
  },
  {
   "cell_type": "code",
   "execution_count": 4,
   "metadata": {
    "height": 249
   },
   "outputs": [],
   "source": [
    "planner = Agent(\n",
    "    role=\"Content Planner\",\n",
    "    goal=\"Plan engaging and factually accurate content on {topic}\",\n",
    "    backstory=\"You're working on planning a blog article \"\n",
    "              \"about the topic: {topic}.\"\n",
    "              \"You collect information that helps the \"\n",
    "              \"audience learn something \"\n",
    "              \"and make informed decisions. \"\n",
    "              \"Your work is the basis for \"\n",
    "              \"the Content Writer to write an article on this topic.\",\n",
    "    allow_delegation=False,\n",
    "\tverbose=True\n",
    ")"
   ]
  },
  {
   "cell_type": "markdown",
   "metadata": {},
   "source": [
    "### Agent: Writer"
   ]
  },
  {
   "cell_type": "code",
   "execution_count": 5,
   "metadata": {
    "height": 385
   },
   "outputs": [],
   "source": [
    "writer = Agent(\n",
    "    role=\"Content Writer\",\n",
    "    goal=\"Write insightful and factually accurate \"\n",
    "         \"opinion piece about the topic: {topic}\",\n",
    "    backstory=\"You're working on a writing \"\n",
    "              \"a new opinion piece about the topic: {topic}. \"\n",
    "              \"You base your writing on the work of \"\n",
    "              \"the Content Planner, who provides an outline \"\n",
    "              \"and relevant context about the topic. \"\n",
    "              \"You follow the main objectives and \"\n",
    "              \"direction of the outline, \"\n",
    "              \"as provide by the Content Planner. \"\n",
    "              \"You also provide objective and impartial insights \"\n",
    "              \"and back them up with information \"\n",
    "              \"provide by the Content Planner. \"\n",
    "              \"You acknowledge in your opinion piece \"\n",
    "              \"when your statements are opinions \"\n",
    "              \"as opposed to objective statements.\",\n",
    "    allow_delegation=False,\n",
    "    verbose=True\n",
    ")"
   ]
  },
  {
   "cell_type": "markdown",
   "metadata": {},
   "source": [
    "### Agent: Editor"
   ]
  },
  {
   "cell_type": "code",
   "execution_count": 6,
   "metadata": {
    "height": 283
   },
   "outputs": [],
   "source": [
    "editor = Agent(\n",
    "    role=\"Editor\",\n",
    "    goal=\"Edit a given blog post to align with \"\n",
    "         \"the writing style of the organization. \",\n",
    "    backstory=\"You are an editor who receives a blog post \"\n",
    "              \"from the Content Writer. \"\n",
    "              \"Your goal is to review the blog post \"\n",
    "              \"to ensure that it follows journalistic best practices,\"\n",
    "              \"provides balanced viewpoints \"\n",
    "              \"when providing opinions or assertions, \"\n",
    "              \"and also avoids major controversial topics \"\n",
    "              \"or opinions when possible.\",\n",
    "    allow_delegation=False,\n",
    "    verbose=True\n",
    ")"
   ]
  },
  {
   "cell_type": "markdown",
   "metadata": {},
   "source": [
    "## Creating Tasks\n",
    "\n",
    "- Define your Tasks, and provide them a `description`, `expected_output` and `agent`."
   ]
  },
  {
   "cell_type": "markdown",
   "metadata": {},
   "source": [
    "### Task: Plan"
   ]
  },
  {
   "cell_type": "code",
   "execution_count": 7,
   "metadata": {
    "height": 283
   },
   "outputs": [],
   "source": [
    "plan = Task(\n",
    "    description=(\n",
    "        \"1. Prioritize the latest trends, key players, \"\n",
    "            \"and noteworthy news on {topic}.\\n\"\n",
    "        \"2. Identify the target audience, considering \"\n",
    "            \"their interests and pain points.\\n\"\n",
    "        \"3. Develop a detailed content outline including \"\n",
    "            \"an introduction, key points, and a call to action.\\n\"\n",
    "        \"4. Include SEO keywords and relevant data or sources.\"\n",
    "    ),\n",
    "    expected_output=\"A comprehensive content plan document \"\n",
    "        \"with an outline, audience analysis, \"\n",
    "        \"SEO keywords, and resources.\",\n",
    "    agent=planner,\n",
    ")"
   ]
  },
  {
   "cell_type": "markdown",
   "metadata": {},
   "source": [
    "### Task: Write"
   ]
  },
  {
   "cell_type": "code",
   "execution_count": 8,
   "metadata": {
    "height": 334
   },
   "outputs": [],
   "source": [
    "write = Task(\n",
    "    description=(\n",
    "        \"1. Use the content plan to craft a compelling \"\n",
    "            \"blog post on {topic}.\\n\"\n",
    "        \"2. Incorporate SEO keywords naturally.\\n\"\n",
    "\t\t\"3. Sections/Subtitles are properly named \"\n",
    "            \"in an engaging manner.\\n\"\n",
    "        \"4. Ensure the post is structured with an \"\n",
    "            \"engaging introduction, insightful body, \"\n",
    "            \"and a summarizing conclusion.\\n\"\n",
    "        \"5. Proofread for grammatical errors and \"\n",
    "            \"alignment with the brand's voice.\\n\"\n",
    "    ),\n",
    "    expected_output=\"A well-written blog post \"\n",
    "        \"in markdown format, ready for publication, \"\n",
    "        \"each section should have 2 or 3 paragraphs.\",\n",
    "    agent=writer,\n",
    ")"
   ]
  },
  {
   "cell_type": "markdown",
   "metadata": {},
   "source": [
    "### Task: Edit"
   ]
  },
  {
   "cell_type": "code",
   "execution_count": 9,
   "metadata": {
    "height": 181
   },
   "outputs": [],
   "source": [
    "edit = Task(\n",
    "    description=(\"Proofread the given blog post for \"\n",
    "                 \"grammatical errors and \"\n",
    "                 \"alignment with the brand's voice.\"),\n",
    "    expected_output=\"A well-written blog post in markdown format, \"\n",
    "                    \"ready for publication, \"\n",
    "                    \"each section should have 2 or 3 paragraphs.\",\n",
    "    agent=editor\n",
    ")"
   ]
  },
  {
   "cell_type": "markdown",
   "metadata": {},
   "source": [
    "## Creating the Crew\n",
    "\n",
    "- Create your crew of Agents\n",
    "- Pass the tasks to be performed by those agents.\n",
    "    - **Note**: *For this simple example*, the tasks will be performed sequentially (i.e they are dependent on each other), so the _order_ of the task in the list _matters_.\n",
    "- `verbose=2` allows you to see all the logs of the execution. "
   ]
  },
  {
   "cell_type": "code",
   "execution_count": 10,
   "metadata": {
    "height": 113
   },
   "outputs": [],
   "source": [
    "crew = Crew(\n",
    "    agents=[planner, writer, editor],\n",
    "    tasks=[plan, write, edit],\n",
    "    verbose=2\n",
    ")"
   ]
  },
  {
   "cell_type": "markdown",
   "metadata": {},
   "source": [
    "## Running the Crew"
   ]
  },
  {
   "cell_type": "markdown",
   "metadata": {},
   "source": [
    "**Note**: LLMs can provide different outputs for they same input, so what you get might be different than what you see in the video."
   ]
  },
  {
   "cell_type": "code",
   "execution_count": 11,
   "metadata": {
    "height": 45
   },
   "outputs": [
    {
     "name": "stdout",
     "output_type": "stream",
     "text": [
      "\u001b[1m\u001b[95m [DEBUG]: == Working Agent: Content Planner\u001b[00m\n",
      "\u001b[1m\u001b[95m [INFO]: == Starting Task: 1. Prioritize the latest trends, key players, and noteworthy news on Artificial Intelligence.\n",
      "2. Identify the target audience, considering their interests and pain points.\n",
      "3. Develop a detailed content outline including an introduction, key points, and a call to action.\n",
      "4. Include SEO keywords and relevant data or sources.\u001b[00m\n",
      "\n",
      "\n",
      "\u001b[1m> Entering new CrewAgentExecutor chain...\u001b[0m\n",
      "\u001b[32;1m\u001b[1;3mI now can give a great answer\n",
      "\n",
      "Final Answer: \n",
      "\n",
      "Title: The Future of Artificial Intelligence: Trends, Key Players, and News\n",
      "\n",
      "Introduction:\n",
      "- Brief overview of Artificial Intelligence (AI) and its impact on various industries\n",
      "- Mention of the latest trends, key players, and noteworthy news in the AI industry\n",
      "\n",
      "Key Points:\n",
      "1. Latest Trends in Artificial Intelligence\n",
      "- Machine learning and deep learning advancements\n",
      "- Natural language processing developments\n",
      "- AI ethics and bias considerations\n",
      "- AI-powered automation in business processes\n",
      "\n",
      "2. Key Players in the Artificial Intelligence Industry\n",
      "- Google DeepMind\n",
      "- IBM Watson\n",
      "- Amazon Web Services (AWS)\n",
      "- Microsoft Azure\n",
      "- Nvidia\n",
      "- OpenAI\n",
      "\n",
      "3. Noteworthy News in Artificial Intelligence\n",
      "- Recent breakthroughs in AI research\n",
      "- Industry partnerships and collaborations\n",
      "- Government regulations and policies related to AI\n",
      "- Impact of AI on job market and society\n",
      "\n",
      "Audience Analysis:\n",
      "Target Audience: \n",
      "- Technology enthusiasts\n",
      "- Business professionals interested in AI applications\n",
      "- Students and researchers in the field of artificial intelligence\n",
      "Interests:\n",
      "- Latest advancements and innovations in AI\n",
      "- Practical applications of AI in different industries\n",
      "- Ethical considerations and societal impacts of AI\n",
      "Pain Points:\n",
      "- Keeping up with rapidly changing trends in AI\n",
      "- Understanding the complexities of AI technologies\n",
      "- Navigating the ethical dilemmas surrounding AI implementations\n",
      "\n",
      "SEO Keywords:\n",
      "- Artificial Intelligence trends\n",
      "- Key players in AI industry\n",
      "- Latest news in AI\n",
      "- AI applications\n",
      "- Machine learning advancements\n",
      "- Deep learning technologies\n",
      "\n",
      "Call to Action:\n",
      "Encourage readers to stay informed about the latest developments in Artificial Intelligence by subscribing to our newsletter or following our blog for regular updates.\n",
      "\n",
      "Resources:\n",
      "- Forbes\n",
      "- TechCrunch\n",
      "- MIT Technology Review\n",
      "- World Economic Forum\n",
      "- AI conferences and events\n",
      "\n",
      "Overall, this content plan aims to provide a comprehensive overview of the latest trends, key players, and noteworthy news in the Artificial Intelligence industry. By addressing the interests and pain points of the target audience and incorporating relevant SEO keywords, the blog article will be informative and engaging for readers seeking to learn more about AI.\u001b[0m\n",
      "\n",
      "\u001b[1m> Finished chain.\u001b[0m\n",
      "\u001b[1m\u001b[92m [DEBUG]: == [Content Planner] Task output: Title: The Future of Artificial Intelligence: Trends, Key Players, and News\n",
      "\n",
      "Introduction:\n",
      "- Brief overview of Artificial Intelligence (AI) and its impact on various industries\n",
      "- Mention of the latest trends, key players, and noteworthy news in the AI industry\n",
      "\n",
      "Key Points:\n",
      "1. Latest Trends in Artificial Intelligence\n",
      "- Machine learning and deep learning advancements\n",
      "- Natural language processing developments\n",
      "- AI ethics and bias considerations\n",
      "- AI-powered automation in business processes\n",
      "\n",
      "2. Key Players in the Artificial Intelligence Industry\n",
      "- Google DeepMind\n",
      "- IBM Watson\n",
      "- Amazon Web Services (AWS)\n",
      "- Microsoft Azure\n",
      "- Nvidia\n",
      "- OpenAI\n",
      "\n",
      "3. Noteworthy News in Artificial Intelligence\n",
      "- Recent breakthroughs in AI research\n",
      "- Industry partnerships and collaborations\n",
      "- Government regulations and policies related to AI\n",
      "- Impact of AI on job market and society\n",
      "\n",
      "Audience Analysis:\n",
      "Target Audience: \n",
      "- Technology enthusiasts\n",
      "- Business professionals interested in AI applications\n",
      "- Students and researchers in the field of artificial intelligence\n",
      "Interests:\n",
      "- Latest advancements and innovations in AI\n",
      "- Practical applications of AI in different industries\n",
      "- Ethical considerations and societal impacts of AI\n",
      "Pain Points:\n",
      "- Keeping up with rapidly changing trends in AI\n",
      "- Understanding the complexities of AI technologies\n",
      "- Navigating the ethical dilemmas surrounding AI implementations\n",
      "\n",
      "SEO Keywords:\n",
      "- Artificial Intelligence trends\n",
      "- Key players in AI industry\n",
      "- Latest news in AI\n",
      "- AI applications\n",
      "- Machine learning advancements\n",
      "- Deep learning technologies\n",
      "\n",
      "Call to Action:\n",
      "Encourage readers to stay informed about the latest developments in Artificial Intelligence by subscribing to our newsletter or following our blog for regular updates.\n",
      "\n",
      "Resources:\n",
      "- Forbes\n",
      "- TechCrunch\n",
      "- MIT Technology Review\n",
      "- World Economic Forum\n",
      "- AI conferences and events\n",
      "\n",
      "Overall, this content plan aims to provide a comprehensive overview of the latest trends, key players, and noteworthy news in the Artificial Intelligence industry. By addressing the interests and pain points of the target audience and incorporating relevant SEO keywords, the blog article will be informative and engaging for readers seeking to learn more about AI.\n",
      "\n",
      "\u001b[00m\n",
      "\u001b[1m\u001b[95m [DEBUG]: == Working Agent: Content Writer\u001b[00m\n",
      "\u001b[1m\u001b[95m [INFO]: == Starting Task: 1. Use the content plan to craft a compelling blog post on Artificial Intelligence.\n",
      "2. Incorporate SEO keywords naturally.\n",
      "3. Sections/Subtitles are properly named in an engaging manner.\n",
      "4. Ensure the post is structured with an engaging introduction, insightful body, and a summarizing conclusion.\n",
      "5. Proofread for grammatical errors and alignment with the brand's voice.\n",
      "\u001b[00m\n",
      "\n",
      "\n",
      "\u001b[1m> Entering new CrewAgentExecutor chain...\u001b[0m\n",
      "\u001b[32;1m\u001b[1;3mI now have a clear idea of how to structure and write a compelling blog post on Artificial Intelligence that will engage the target audience and provide valuable insights.\n",
      "\n",
      "Final Answer:\n",
      "\n",
      "# The Future of Artificial Intelligence: Trends, Key Players, and News\n",
      "\n",
      "**Introduction:**\n",
      "\n",
      "Artificial Intelligence (AI) has revolutionized various industries by enabling machines to perform tasks that typically require human intelligence. From healthcare to finance, AI technologies have been at the forefront of innovation, driving efficiency and productivity. The latest trends in AI, key players in the industry, and noteworthy news continue to shape the future of this rapidly evolving field.\n",
      "\n",
      "**Latest Trends in Artificial Intelligence:**\n",
      "\n",
      "Machine learning and deep learning advancements have significantly enhanced AI capabilities, allowing algorithms to learn from data and make predictions with high accuracy. Natural language processing developments have also played a crucial role in improving communication between humans and machines, leading to the rise of virtual assistants and chatbots. However, ethical considerations and bias in AI algorithms remain a critical issue that industry experts are actively addressing. Additionally, AI-powered automation in business processes has transformed how organizations operate, streamlining workflows and increasing operational efficiency.\n",
      "\n",
      "**Key Players in the Artificial Intelligence Industry:**\n",
      "\n",
      "Some of the key players in the AI industry include Google DeepMind, known for its groundbreaking work in AI research and development. IBM Watson has been a pioneer in cognitive computing, offering AI solutions for businesses across various sectors. Amazon Web Services (AWS) and Microsoft Azure provide cloud-based AI services, enabling organizations to leverage AI capabilities without significant infrastructure investments. Nvidia is renowned for its GPU technology that accelerates AI and deep learning applications, while OpenAI focuses on advancing AI research in a collaborative and ethical manner.\n",
      "\n",
      "**Noteworthy News in Artificial Intelligence:**\n",
      "\n",
      "Recent breakthroughs in AI research have led to advancements in areas such as computer vision, speech recognition, and autonomous systems. Industry partnerships and collaborations have also been instrumental in driving innovation and accelerating the adoption of AI technologies. Government regulations and policies related to AI are continuously evolving to address concerns around data privacy, security, and transparency. The impact of AI on the job market and society as a whole is a topic of ongoing debate, with experts exploring the potential implications of automation and AI-driven decision-making on employment and societal norms.\n",
      "\n",
      "**Conclusion:**\n",
      "\n",
      "As AI continues to reshape industries and transform everyday life, staying informed about the latest developments is crucial for individuals interested in the field. By exploring the latest trends, key players, and noteworthy news in the AI industry, readers can gain valuable insights into the current state of AI and its future implications. Subscribe to our newsletter or follow our blog for regular updates on Artificial Intelligence to stay ahead of the curve and be part of the AI revolution.\n",
      "\n",
      "By addressing the interests and pain points of our target audience, we aim to provide a comprehensive overview of the dynamic landscape of AI, offering valuable insights and analysis to our readers. With a focus on engaging content and relevant SEO keywords, our blog post on Artificial Intelligence is designed to inform, inspire, and empower individuals interested in the limitless possibilities of AI technology.\u001b[0m\n",
      "\n",
      "\u001b[1m> Finished chain.\u001b[0m\n",
      "\u001b[1m\u001b[92m [DEBUG]: == [Content Writer] Task output: # The Future of Artificial Intelligence: Trends, Key Players, and News\n",
      "\n",
      "**Introduction:**\n",
      "\n",
      "Artificial Intelligence (AI) has revolutionized various industries by enabling machines to perform tasks that typically require human intelligence. From healthcare to finance, AI technologies have been at the forefront of innovation, driving efficiency and productivity. The latest trends in AI, key players in the industry, and noteworthy news continue to shape the future of this rapidly evolving field.\n",
      "\n",
      "**Latest Trends in Artificial Intelligence:**\n",
      "\n",
      "Machine learning and deep learning advancements have significantly enhanced AI capabilities, allowing algorithms to learn from data and make predictions with high accuracy. Natural language processing developments have also played a crucial role in improving communication between humans and machines, leading to the rise of virtual assistants and chatbots. However, ethical considerations and bias in AI algorithms remain a critical issue that industry experts are actively addressing. Additionally, AI-powered automation in business processes has transformed how organizations operate, streamlining workflows and increasing operational efficiency.\n",
      "\n",
      "**Key Players in the Artificial Intelligence Industry:**\n",
      "\n",
      "Some of the key players in the AI industry include Google DeepMind, known for its groundbreaking work in AI research and development. IBM Watson has been a pioneer in cognitive computing, offering AI solutions for businesses across various sectors. Amazon Web Services (AWS) and Microsoft Azure provide cloud-based AI services, enabling organizations to leverage AI capabilities without significant infrastructure investments. Nvidia is renowned for its GPU technology that accelerates AI and deep learning applications, while OpenAI focuses on advancing AI research in a collaborative and ethical manner.\n",
      "\n",
      "**Noteworthy News in Artificial Intelligence:**\n",
      "\n",
      "Recent breakthroughs in AI research have led to advancements in areas such as computer vision, speech recognition, and autonomous systems. Industry partnerships and collaborations have also been instrumental in driving innovation and accelerating the adoption of AI technologies. Government regulations and policies related to AI are continuously evolving to address concerns around data privacy, security, and transparency. The impact of AI on the job market and society as a whole is a topic of ongoing debate, with experts exploring the potential implications of automation and AI-driven decision-making on employment and societal norms.\n",
      "\n",
      "**Conclusion:**\n",
      "\n",
      "As AI continues to reshape industries and transform everyday life, staying informed about the latest developments is crucial for individuals interested in the field. By exploring the latest trends, key players, and noteworthy news in the AI industry, readers can gain valuable insights into the current state of AI and its future implications. Subscribe to our newsletter or follow our blog for regular updates on Artificial Intelligence to stay ahead of the curve and be part of the AI revolution.\n",
      "\n",
      "By addressing the interests and pain points of our target audience, we aim to provide a comprehensive overview of the dynamic landscape of AI, offering valuable insights and analysis to our readers. With a focus on engaging content and relevant SEO keywords, our blog post on Artificial Intelligence is designed to inform, inspire, and empower individuals interested in the limitless possibilities of AI technology.\n",
      "\n",
      "\u001b[00m\n",
      "\u001b[1m\u001b[95m [DEBUG]: == Working Agent: Editor\u001b[00m\n",
      "\u001b[1m\u001b[95m [INFO]: == Starting Task: Proofread the given blog post for grammatical errors and alignment with the brand's voice.\u001b[00m\n",
      "\n",
      "\n",
      "\u001b[1m> Entering new CrewAgentExecutor chain...\u001b[0m\n"
     ]
    },
    {
     "name": "stdout",
     "output_type": "stream",
     "text": [
      "\u001b[32;1m\u001b[1;3mI now can give a great answer\n",
      "\n",
      "Final Answer:\n",
      "# The Future of Artificial Intelligence: Trends, Key Players, and News\n",
      "\n",
      "**Introduction:**\n",
      "\n",
      "Artificial Intelligence (AI) has transformed various industries, empowering machines to execute tasks that traditionally required human intelligence. From healthcare to finance, AI technologies have been driving innovation, enhancing efficiency, and boosting productivity. The ongoing evolution of AI is influenced by the latest trends, key players in the industry, and noteworthy news, all of which contribute to shaping the future of this dynamic field.\n",
      "\n",
      "**Latest Trends in Artificial Intelligence:**\n",
      "\n",
      "Advancements in machine learning and deep learning have significantly expanded the capabilities of AI, allowing algorithms to learn from data and make precise predictions. The progress in natural language processing has facilitated better communication between humans and machines, leading to the widespread adoption of virtual assistants and chatbots. Nonetheless, industry experts are actively addressing ethical concerns and biases present in AI algorithms. Moreover, the integration of AI-powered automation in business processes has revolutionized organizational operations, streamlining workflows and enhancing operational efficiency.\n",
      "\n",
      "**Key Players in the Artificial Intelligence Industry:**\n",
      "\n",
      "Leading the AI industry are prominent players such as Google DeepMind, renowned for its groundbreaking AI research and development. IBM Watson has been a trailblazer in cognitive computing, providing AI solutions for businesses across diverse sectors. Amazon Web Services (AWS) and Microsoft Azure offer cloud-based AI services, allowing organizations to harness AI capabilities without substantial infrastructure investments. Nvidia is recognized for its GPU technology that accelerates AI and deep learning applications, while OpenAI focuses on advancing AI research in a collaborative and ethical manner.\n",
      "\n",
      "**Noteworthy News in Artificial Intelligence:**\n",
      "\n",
      "Recent breakthroughs in AI research have propelled advancements in computer vision, speech recognition, and autonomous systems. Collaborations and partnerships within the industry have played a pivotal role in fostering innovation and expediting the adoption of AI technologies. Government regulations and policies concerning AI are continuously evolving to address issues related to data privacy, security, and transparency. The impact of AI on the job market and society remains a debatable topic, with experts exploring the potential consequences of automation and AI-driven decision-making on employment and societal norms.\n",
      "\n",
      "**Conclusion:**\n",
      "\n",
      "As AI continues to revolutionize industries and daily life, staying abreast of the latest developments is essential for individuals interested in the field. By delving into the current trends, key players, and noteworthy news in the AI industry, readers can glean valuable insights into the present state of AI and its future prospects. Subscribe to our newsletter or follow our blog for regular updates on Artificial Intelligence to remain informed and engaged in the AI revolution.\n",
      "\n",
      "Our aim is to provide a comprehensive overview of the ever-evolving landscape of AI, catering to the interests and concerns of our target audience. Through engaging content and strategic SEO integration, our blog post on Artificial Intelligence is crafted to educate, inspire, and empower individuals intrigued by the boundless possibilities of AI technology.\u001b[0m\n",
      "\n",
      "\u001b[1m> Finished chain.\u001b[0m\n",
      "\u001b[1m\u001b[92m [DEBUG]: == [Editor] Task output: # The Future of Artificial Intelligence: Trends, Key Players, and News\n",
      "\n",
      "**Introduction:**\n",
      "\n",
      "Artificial Intelligence (AI) has transformed various industries, empowering machines to execute tasks that traditionally required human intelligence. From healthcare to finance, AI technologies have been driving innovation, enhancing efficiency, and boosting productivity. The ongoing evolution of AI is influenced by the latest trends, key players in the industry, and noteworthy news, all of which contribute to shaping the future of this dynamic field.\n",
      "\n",
      "**Latest Trends in Artificial Intelligence:**\n",
      "\n",
      "Advancements in machine learning and deep learning have significantly expanded the capabilities of AI, allowing algorithms to learn from data and make precise predictions. The progress in natural language processing has facilitated better communication between humans and machines, leading to the widespread adoption of virtual assistants and chatbots. Nonetheless, industry experts are actively addressing ethical concerns and biases present in AI algorithms. Moreover, the integration of AI-powered automation in business processes has revolutionized organizational operations, streamlining workflows and enhancing operational efficiency.\n",
      "\n",
      "**Key Players in the Artificial Intelligence Industry:**\n",
      "\n",
      "Leading the AI industry are prominent players such as Google DeepMind, renowned for its groundbreaking AI research and development. IBM Watson has been a trailblazer in cognitive computing, providing AI solutions for businesses across diverse sectors. Amazon Web Services (AWS) and Microsoft Azure offer cloud-based AI services, allowing organizations to harness AI capabilities without substantial infrastructure investments. Nvidia is recognized for its GPU technology that accelerates AI and deep learning applications, while OpenAI focuses on advancing AI research in a collaborative and ethical manner.\n",
      "\n",
      "**Noteworthy News in Artificial Intelligence:**\n",
      "\n",
      "Recent breakthroughs in AI research have propelled advancements in computer vision, speech recognition, and autonomous systems. Collaborations and partnerships within the industry have played a pivotal role in fostering innovation and expediting the adoption of AI technologies. Government regulations and policies concerning AI are continuously evolving to address issues related to data privacy, security, and transparency. The impact of AI on the job market and society remains a debatable topic, with experts exploring the potential consequences of automation and AI-driven decision-making on employment and societal norms.\n",
      "\n",
      "**Conclusion:**\n",
      "\n",
      "As AI continues to revolutionize industries and daily life, staying abreast of the latest developments is essential for individuals interested in the field. By delving into the current trends, key players, and noteworthy news in the AI industry, readers can glean valuable insights into the present state of AI and its future prospects. Subscribe to our newsletter or follow our blog for regular updates on Artificial Intelligence to remain informed and engaged in the AI revolution.\n",
      "\n",
      "Our aim is to provide a comprehensive overview of the ever-evolving landscape of AI, catering to the interests and concerns of our target audience. Through engaging content and strategic SEO integration, our blog post on Artificial Intelligence is crafted to educate, inspire, and empower individuals intrigued by the boundless possibilities of AI technology.\n",
      "\n",
      "\u001b[00m\n"
     ]
    }
   ],
   "source": [
    "result = crew.kickoff(inputs={\"topic\": \"Artificial Intelligence\"})"
   ]
  },
  {
   "cell_type": "markdown",
   "metadata": {},
   "source": [
    "- Display the results of your execution as markdown in the notebook."
   ]
  },
  {
   "cell_type": "code",
   "execution_count": 12,
   "metadata": {
    "height": 62
   },
   "outputs": [
    {
     "data": {
      "text/markdown": [
       "# The Future of Artificial Intelligence: Trends, Key Players, and News\n",
       "\n",
       "**Introduction:**\n",
       "\n",
       "Artificial Intelligence (AI) has transformed various industries, empowering machines to execute tasks that traditionally required human intelligence. From healthcare to finance, AI technologies have been driving innovation, enhancing efficiency, and boosting productivity. The ongoing evolution of AI is influenced by the latest trends, key players in the industry, and noteworthy news, all of which contribute to shaping the future of this dynamic field.\n",
       "\n",
       "**Latest Trends in Artificial Intelligence:**\n",
       "\n",
       "Advancements in machine learning and deep learning have significantly expanded the capabilities of AI, allowing algorithms to learn from data and make precise predictions. The progress in natural language processing has facilitated better communication between humans and machines, leading to the widespread adoption of virtual assistants and chatbots. Nonetheless, industry experts are actively addressing ethical concerns and biases present in AI algorithms. Moreover, the integration of AI-powered automation in business processes has revolutionized organizational operations, streamlining workflows and enhancing operational efficiency.\n",
       "\n",
       "**Key Players in the Artificial Intelligence Industry:**\n",
       "\n",
       "Leading the AI industry are prominent players such as Google DeepMind, renowned for its groundbreaking AI research and development. IBM Watson has been a trailblazer in cognitive computing, providing AI solutions for businesses across diverse sectors. Amazon Web Services (AWS) and Microsoft Azure offer cloud-based AI services, allowing organizations to harness AI capabilities without substantial infrastructure investments. Nvidia is recognized for its GPU technology that accelerates AI and deep learning applications, while OpenAI focuses on advancing AI research in a collaborative and ethical manner.\n",
       "\n",
       "**Noteworthy News in Artificial Intelligence:**\n",
       "\n",
       "Recent breakthroughs in AI research have propelled advancements in computer vision, speech recognition, and autonomous systems. Collaborations and partnerships within the industry have played a pivotal role in fostering innovation and expediting the adoption of AI technologies. Government regulations and policies concerning AI are continuously evolving to address issues related to data privacy, security, and transparency. The impact of AI on the job market and society remains a debatable topic, with experts exploring the potential consequences of automation and AI-driven decision-making on employment and societal norms.\n",
       "\n",
       "**Conclusion:**\n",
       "\n",
       "As AI continues to revolutionize industries and daily life, staying abreast of the latest developments is essential for individuals interested in the field. By delving into the current trends, key players, and noteworthy news in the AI industry, readers can glean valuable insights into the present state of AI and its future prospects. Subscribe to our newsletter or follow our blog for regular updates on Artificial Intelligence to remain informed and engaged in the AI revolution.\n",
       "\n",
       "Our aim is to provide a comprehensive overview of the ever-evolving landscape of AI, catering to the interests and concerns of our target audience. Through engaging content and strategic SEO integration, our blog post on Artificial Intelligence is crafted to educate, inspire, and empower individuals intrigued by the boundless possibilities of AI technology."
      ],
      "text/plain": [
       "<IPython.core.display.Markdown object>"
      ]
     },
     "execution_count": 12,
     "metadata": {},
     "output_type": "execute_result"
    }
   ],
   "source": [
    "from IPython.display import Markdown\n",
    "Markdown(result)"
   ]
  },
  {
   "cell_type": "markdown",
   "metadata": {},
   "source": [
    "## Try it Yourself\n",
    "\n",
    "- Pass in a topic of your choice and see what the agents come up with!"
   ]
  },
  {
   "cell_type": "code",
   "execution_count": 13,
   "metadata": {
    "height": 62
   },
   "outputs": [
    {
     "name": "stdout",
     "output_type": "stream",
     "text": [
      "\u001b[1m\u001b[95m [DEBUG]: == Working Agent: Content Planner\u001b[00m\n",
      "\u001b[1m\u001b[95m [INFO]: == Starting Task: 1. Prioritize the latest trends, key players, and noteworthy news on Top 10 Advances in Artificial Intelligence in 2024.\n",
      "2. Identify the target audience, considering their interests and pain points.\n",
      "3. Develop a detailed content outline including an introduction, key points, and a call to action.\n",
      "4. Include SEO keywords and relevant data or sources.\u001b[00m\n",
      "\n",
      "\n",
      "\u001b[1m> Entering new CrewAgentExecutor chain...\u001b[0m\n",
      "\u001b[32;1m\u001b[1;3mI now can give a great answer\n",
      "\n",
      "Final Answer:\n",
      "\n",
      "Title: Top 10 Advances in Artificial Intelligence in 2024\n",
      "\n",
      "Outline:\n",
      "I. Introduction\n",
      "    A. Brief overview of the rapid advancements in AI technology in 2024\n",
      "II. Key Trends in AI for 2024\n",
      "    A. Quantum computing integration\n",
      "    B. Enhanced natural language processing\n",
      "    C. Autonomous vehicles advancements\n",
      "    D. Healthcare innovations\n",
      "    E. Cybersecurity developments\n",
      "    F. Robotics and automation improvements\n",
      "    G. AI ethics and regulations\n",
      "III. Key Players in AI Industry\n",
      "    A. Google\n",
      "    B. IBM\n",
      "    C. Microsoft\n",
      "    D. Amazon\n",
      "    E. Tesla\n",
      "    F. NVIDIA\n",
      "    G. OpenAI\n",
      "IV. Noteworthy News in AI for 2024\n",
      "    A. Breakthrough in AI-powered drug discovery\n",
      "    B. AI-driven personalized shopping experiences\n",
      "    C. Advancements in AI-powered climate change solutions\n",
      "V. Target Audience Analysis\n",
      "    A. Tech enthusiasts\n",
      "    B. Business professionals looking to implement AI solutions\n",
      "    C. Researchers and academics in the field of artificial intelligence\n",
      "VI. SEO Keywords\n",
      "    A. Artificial Intelligence advances 2024\n",
      "    B. Top AI trends in 2024\n",
      "    C. AI industry updates 2024\n",
      "VII. Resources\n",
      "    A. Research reports from Gartner and Forrester\n",
      "    B. Articles from TechCrunch and Wired\n",
      "    C. Official announcements from leading AI companies\n",
      "\n",
      "Call to Action: Stay updated on the latest AI advancements by subscribing to our newsletter for monthly insights and analysis.\n",
      "\n",
      "By following this comprehensive content plan, we aim to provide our audience with valuable information on the top 10 advances in artificial intelligence in 2024, catering to their interests and helping them make informed decisions in this rapidly evolving industry.\u001b[0m\n",
      "\n",
      "\u001b[1m> Finished chain.\u001b[0m\n",
      "\u001b[1m\u001b[92m [DEBUG]: == [Content Planner] Task output: Title: Top 10 Advances in Artificial Intelligence in 2024\n",
      "\n",
      "Outline:\n",
      "I. Introduction\n",
      "    A. Brief overview of the rapid advancements in AI technology in 2024\n",
      "II. Key Trends in AI for 2024\n",
      "    A. Quantum computing integration\n",
      "    B. Enhanced natural language processing\n",
      "    C. Autonomous vehicles advancements\n",
      "    D. Healthcare innovations\n",
      "    E. Cybersecurity developments\n",
      "    F. Robotics and automation improvements\n",
      "    G. AI ethics and regulations\n",
      "III. Key Players in AI Industry\n",
      "    A. Google\n",
      "    B. IBM\n",
      "    C. Microsoft\n",
      "    D. Amazon\n",
      "    E. Tesla\n",
      "    F. NVIDIA\n",
      "    G. OpenAI\n",
      "IV. Noteworthy News in AI for 2024\n",
      "    A. Breakthrough in AI-powered drug discovery\n",
      "    B. AI-driven personalized shopping experiences\n",
      "    C. Advancements in AI-powered climate change solutions\n",
      "V. Target Audience Analysis\n",
      "    A. Tech enthusiasts\n",
      "    B. Business professionals looking to implement AI solutions\n",
      "    C. Researchers and academics in the field of artificial intelligence\n",
      "VI. SEO Keywords\n",
      "    A. Artificial Intelligence advances 2024\n",
      "    B. Top AI trends in 2024\n",
      "    C. AI industry updates 2024\n",
      "VII. Resources\n",
      "    A. Research reports from Gartner and Forrester\n",
      "    B. Articles from TechCrunch and Wired\n",
      "    C. Official announcements from leading AI companies\n",
      "\n",
      "Call to Action: Stay updated on the latest AI advancements by subscribing to our newsletter for monthly insights and analysis.\n",
      "\n",
      "By following this comprehensive content plan, we aim to provide our audience with valuable information on the top 10 advances in artificial intelligence in 2024, catering to their interests and helping them make informed decisions in this rapidly evolving industry.\n",
      "\n",
      "\u001b[00m\n",
      "\u001b[1m\u001b[95m [DEBUG]: == Working Agent: Content Writer\u001b[00m\n",
      "\u001b[1m\u001b[95m [INFO]: == Starting Task: 1. Use the content plan to craft a compelling blog post on Top 10 Advances in Artificial Intelligence in 2024.\n",
      "2. Incorporate SEO keywords naturally.\n",
      "3. Sections/Subtitles are properly named in an engaging manner.\n",
      "4. Ensure the post is structured with an engaging introduction, insightful body, and a summarizing conclusion.\n",
      "5. Proofread for grammatical errors and alignment with the brand's voice.\n",
      "\u001b[00m\n",
      "\n",
      "\n",
      "\u001b[1m> Entering new CrewAgentExecutor chain...\u001b[0m\n",
      "\u001b[32;1m\u001b[1;3mI now can give a great answer\n",
      "\n",
      "Final Answer:\n",
      "# Top 10 Advances in Artificial Intelligence in 2024\n",
      "\n",
      "## Introduction\n",
      "Artificial Intelligence (AI) has been rapidly evolving, pushing boundaries and redefining possibilities in 2024. The advancements in AI technology have been groundbreaking, with key trends shaping the landscape of the industry. From quantum computing integration to enhanced natural language processing, the progress in AI has been remarkable.\n",
      "\n",
      "## Key Trends in AI for 2024\n",
      "### Quantum Computing Integration\n",
      "One of the most significant advancements in AI in 2024 is the integration of quantum computing. This has revolutionized the capabilities of AI systems, allowing for faster and more complex calculations that were previously unimaginable.\n",
      "\n",
      "### Enhanced Natural Language Processing\n",
      "AI systems have seen significant improvements in natural language processing, enabling more accurate and nuanced interactions with users. This has paved the way for more sophisticated AI-powered applications in various industries.\n",
      "\n",
      "### Autonomous Vehicles Advancements\n",
      "The development of AI-powered autonomous vehicles has reached new heights in 2024, with increased safety features and improved decision-making capabilities. This has the potential to transform the transportation industry in the coming years.\n",
      "\n",
      "### Healthcare Innovations\n",
      "AI has played a crucial role in driving innovations in the healthcare sector, from personalized treatment plans to early disease detection. The integration of AI in healthcare has the potential to revolutionize patient care and improve outcomes.\n",
      "\n",
      "### Cybersecurity Developments\n",
      "With the growing threat of cyber attacks, AI-powered cybersecurity solutions have become essential in safeguarding sensitive data and networks. The advancements in AI technology have enhanced the ability to detect and prevent cyber threats in real-time.\n",
      "\n",
      "### Robotics and Automation Improvements\n",
      "AI-powered robotics and automation have seen significant improvements in 2024, with robots becoming more agile and adaptable to various tasks. This has led to increased efficiency and productivity in industries ranging from manufacturing to logistics.\n",
      "\n",
      "### AI Ethics and Regulations\n",
      "As AI technology continues to advance, the importance of ethics and regulations surrounding its use has become paramount. Companies and policymakers are grappling with the ethical implications of AI, such as bias in algorithms and data privacy concerns.\n",
      "\n",
      "## Key Players in AI Industry\n",
      "The AI industry is dominated by key players such as Google, IBM, Microsoft, Amazon, Tesla, NVIDIA, and OpenAI. These companies are at the forefront of AI innovation, driving advancements in technology and shaping the future of AI applications.\n",
      "\n",
      "## Noteworthy News in AI for 2024\n",
      "### Breakthrough in AI-Powered Drug Discovery\n",
      "AI has revolutionized drug discovery processes, leading to the development of new treatments and therapies for various diseases. The use of AI algorithms has accelerated the drug discovery timeline and improved success rates in clinical trials.\n",
      "\n",
      "### AI-Driven Personalized Shopping Experiences\n",
      "E-commerce companies are leveraging AI technology to provide personalized shopping experiences for customers. AI algorithms analyze customer data to recommend products, personalize marketing campaigns, and enhance the overall shopping experience.\n",
      "\n",
      "### Advancements in AI-Powered Climate Change Solutions\n",
      "AI technology is being used to address climate change challenges, from optimizing energy consumption to predicting natural disasters. AI-powered climate change solutions are crucial in mitigating the impact of environmental issues and promoting sustainability.\n",
      "\n",
      "## Target Audience Analysis\n",
      "Tech enthusiasts, business professionals looking to implement AI solutions, and researchers and academics in the field of artificial intelligence are the primary audience for AI advancements in 2024. Staying updated on the latest trends and developments in AI is essential for making informed decisions and staying competitive in the industry.\n",
      "\n",
      "## Conclusion\n",
      "The top 10 advances in artificial intelligence in 2024 are shaping the future of AI technology and its applications across various industries. From quantum computing integration to healthcare innovations, AI is driving unprecedented progress and innovation. By staying informed and engaged with the latest trends in AI, individuals and businesses can harness the power of AI to drive growth and transformation.\n",
      "\n",
      "*Stay updated on the latest AI advancements by subscribing to our newsletter for monthly insights and analysis.*\n",
      "\n",
      "In conclusion, the advancements in AI in 2024 are paving the way for a future where AI-powered solutions are commonplace and transformative in our daily lives. The key trends, key players, and noteworthy news in AI are indicative of the rapid progress and innovation in the industry. As we navigate the complexities and possibilities of AI technology, staying informed and engaged with the latest developments is crucial for unlocking the full potential of AI in our society.\u001b[0m\n",
      "\n",
      "\u001b[1m> Finished chain.\u001b[0m\n",
      "\u001b[1m\u001b[92m [DEBUG]: == [Content Writer] Task output: # Top 10 Advances in Artificial Intelligence in 2024\n",
      "\n",
      "## Introduction\n",
      "Artificial Intelligence (AI) has been rapidly evolving, pushing boundaries and redefining possibilities in 2024. The advancements in AI technology have been groundbreaking, with key trends shaping the landscape of the industry. From quantum computing integration to enhanced natural language processing, the progress in AI has been remarkable.\n",
      "\n",
      "## Key Trends in AI for 2024\n",
      "### Quantum Computing Integration\n",
      "One of the most significant advancements in AI in 2024 is the integration of quantum computing. This has revolutionized the capabilities of AI systems, allowing for faster and more complex calculations that were previously unimaginable.\n",
      "\n",
      "### Enhanced Natural Language Processing\n",
      "AI systems have seen significant improvements in natural language processing, enabling more accurate and nuanced interactions with users. This has paved the way for more sophisticated AI-powered applications in various industries.\n",
      "\n",
      "### Autonomous Vehicles Advancements\n",
      "The development of AI-powered autonomous vehicles has reached new heights in 2024, with increased safety features and improved decision-making capabilities. This has the potential to transform the transportation industry in the coming years.\n",
      "\n",
      "### Healthcare Innovations\n",
      "AI has played a crucial role in driving innovations in the healthcare sector, from personalized treatment plans to early disease detection. The integration of AI in healthcare has the potential to revolutionize patient care and improve outcomes.\n",
      "\n",
      "### Cybersecurity Developments\n",
      "With the growing threat of cyber attacks, AI-powered cybersecurity solutions have become essential in safeguarding sensitive data and networks. The advancements in AI technology have enhanced the ability to detect and prevent cyber threats in real-time.\n",
      "\n",
      "### Robotics and Automation Improvements\n",
      "AI-powered robotics and automation have seen significant improvements in 2024, with robots becoming more agile and adaptable to various tasks. This has led to increased efficiency and productivity in industries ranging from manufacturing to logistics.\n",
      "\n",
      "### AI Ethics and Regulations\n",
      "As AI technology continues to advance, the importance of ethics and regulations surrounding its use has become paramount. Companies and policymakers are grappling with the ethical implications of AI, such as bias in algorithms and data privacy concerns.\n",
      "\n",
      "## Key Players in AI Industry\n",
      "The AI industry is dominated by key players such as Google, IBM, Microsoft, Amazon, Tesla, NVIDIA, and OpenAI. These companies are at the forefront of AI innovation, driving advancements in technology and shaping the future of AI applications.\n",
      "\n",
      "## Noteworthy News in AI for 2024\n",
      "### Breakthrough in AI-Powered Drug Discovery\n",
      "AI has revolutionized drug discovery processes, leading to the development of new treatments and therapies for various diseases. The use of AI algorithms has accelerated the drug discovery timeline and improved success rates in clinical trials.\n",
      "\n",
      "### AI-Driven Personalized Shopping Experiences\n",
      "E-commerce companies are leveraging AI technology to provide personalized shopping experiences for customers. AI algorithms analyze customer data to recommend products, personalize marketing campaigns, and enhance the overall shopping experience.\n",
      "\n",
      "### Advancements in AI-Powered Climate Change Solutions\n",
      "AI technology is being used to address climate change challenges, from optimizing energy consumption to predicting natural disasters. AI-powered climate change solutions are crucial in mitigating the impact of environmental issues and promoting sustainability.\n",
      "\n",
      "## Target Audience Analysis\n",
      "Tech enthusiasts, business professionals looking to implement AI solutions, and researchers and academics in the field of artificial intelligence are the primary audience for AI advancements in 2024. Staying updated on the latest trends and developments in AI is essential for making informed decisions and staying competitive in the industry.\n",
      "\n",
      "## Conclusion\n",
      "The top 10 advances in artificial intelligence in 2024 are shaping the future of AI technology and its applications across various industries. From quantum computing integration to healthcare innovations, AI is driving unprecedented progress and innovation. By staying informed and engaged with the latest trends in AI, individuals and businesses can harness the power of AI to drive growth and transformation.\n",
      "\n",
      "*Stay updated on the latest AI advancements by subscribing to our newsletter for monthly insights and analysis.*\n",
      "\n",
      "In conclusion, the advancements in AI in 2024 are paving the way for a future where AI-powered solutions are commonplace and transformative in our daily lives. The key trends, key players, and noteworthy news in AI are indicative of the rapid progress and innovation in the industry. As we navigate the complexities and possibilities of AI technology, staying informed and engaged with the latest developments is crucial for unlocking the full potential of AI in our society.\n",
      "\n",
      "\u001b[00m\n",
      "\u001b[1m\u001b[95m [DEBUG]: == Working Agent: Editor\u001b[00m\n",
      "\u001b[1m\u001b[95m [INFO]: == Starting Task: Proofread the given blog post for grammatical errors and alignment with the brand's voice.\u001b[00m\n",
      "\n",
      "\n",
      "\u001b[1m> Entering new CrewAgentExecutor chain...\u001b[0m\n"
     ]
    },
    {
     "name": "stdout",
     "output_type": "stream",
     "text": [
      "\u001b[32;1m\u001b[1;3mI now can give a great answer\n",
      "\n",
      "Final Answer:\n",
      "# Top 10 Advances in Artificial Intelligence in 2024\n",
      "\n",
      "## Introduction\n",
      "Artificial Intelligence (AI) has been rapidly evolving, pushing boundaries and redefining possibilities in 2024. The advancements in AI technology have been groundbreaking, with key trends shaping the landscape of the industry. From quantum computing integration to enhanced natural language processing, the progress in AI has been remarkable.\n",
      "\n",
      "## Key Trends in AI for 2024\n",
      "One of the most significant advancements in AI in 2024 is the integration of quantum computing. This has revolutionized the capabilities of AI systems, allowing for faster and more complex calculations that were previously unimaginable. AI systems have seen significant improvements in natural language processing, enabling more accurate and nuanced interactions with users. This has paved the way for more sophisticated AI-powered applications in various industries.\n",
      "\n",
      "The development of AI-powered autonomous vehicles has reached new heights in 2024, with increased safety features and improved decision-making capabilities. This has the potential to transform the transportation industry in the coming years. AI has played a crucial role in driving innovations in the healthcare sector, from personalized treatment plans to early disease detection. The integration of AI in healthcare has the potential to revolutionize patient care and improve outcomes.\n",
      "\n",
      "With the growing threat of cyber attacks, AI-powered cybersecurity solutions have become essential in safeguarding sensitive data and networks. The advancements in AI technology have enhanced the ability to detect and prevent cyber threats in real-time. AI-powered robotics and automation have seen significant improvements in 2024, with robots becoming more agile and adaptable to various tasks. This has led to increased efficiency and productivity in industries ranging from manufacturing to logistics.\n",
      "\n",
      "As AI technology continues to advance, the importance of ethics and regulations surrounding its use has become paramount. Companies and policymakers are grappling with the ethical implications of AI, such as bias in algorithms and data privacy concerns.\n",
      "\n",
      "## Key Players in AI Industry\n",
      "The AI industry is dominated by key players such as Google, IBM, Microsoft, Amazon, Tesla, NVIDIA, and OpenAI. These companies are at the forefront of AI innovation, driving advancements in technology and shaping the future of AI applications.\n",
      "\n",
      "## Noteworthy News in AI for 2024\n",
      "AI has revolutionized drug discovery processes, leading to the development of new treatments and therapies for various diseases. The use of AI algorithms has accelerated the drug discovery timeline and improved success rates in clinical trials. E-commerce companies are leveraging AI technology to provide personalized shopping experiences for customers. AI algorithms analyze customer data to recommend products, personalize marketing campaigns, and enhance the overall shopping experience. AI technology is being used to address climate change challenges, from optimizing energy consumption to predicting natural disasters. AI-powered climate change solutions are crucial in mitigating the impact of environmental issues and promoting sustainability.\n",
      "\n",
      "## Target Audience Analysis\n",
      "Tech enthusiasts, business professionals looking to implement AI solutions, and researchers and academics in the field of artificial intelligence are the primary audience for AI advancements in 2024. Staying updated on the latest trends and developments in AI is essential for making informed decisions and staying competitive in the industry.\n",
      "\n",
      "## Conclusion\n",
      "The top 10 advances in artificial intelligence in 2024 are shaping the future of AI technology and its applications across various industries. From quantum computing integration to healthcare innovations, AI is driving unprecedented progress and innovation. By staying informed and engaged with the latest trends in AI, individuals and businesses can harness the power of AI to drive growth and transformation. Stay updated on the latest AI advancements by subscribing to our newsletter for monthly insights and analysis.\n",
      "\n",
      "In conclusion, the advancements in AI in 2024 are paving the way for a future where AI-powered solutions are commonplace and transformative in our daily lives. The key trends, key players, and noteworthy news in AI are indicative of the rapid progress and innovation in the industry. As we navigate the complexities and possibilities of AI technology, staying informed and engaged with the latest developments is crucial for unlocking the full potential of AI in our society.\u001b[0m\n",
      "\n",
      "\u001b[1m> Finished chain.\u001b[0m\n",
      "\u001b[1m\u001b[92m [DEBUG]: == [Editor] Task output: # Top 10 Advances in Artificial Intelligence in 2024\n",
      "\n",
      "## Introduction\n",
      "Artificial Intelligence (AI) has been rapidly evolving, pushing boundaries and redefining possibilities in 2024. The advancements in AI technology have been groundbreaking, with key trends shaping the landscape of the industry. From quantum computing integration to enhanced natural language processing, the progress in AI has been remarkable.\n",
      "\n",
      "## Key Trends in AI for 2024\n",
      "One of the most significant advancements in AI in 2024 is the integration of quantum computing. This has revolutionized the capabilities of AI systems, allowing for faster and more complex calculations that were previously unimaginable. AI systems have seen significant improvements in natural language processing, enabling more accurate and nuanced interactions with users. This has paved the way for more sophisticated AI-powered applications in various industries.\n",
      "\n",
      "The development of AI-powered autonomous vehicles has reached new heights in 2024, with increased safety features and improved decision-making capabilities. This has the potential to transform the transportation industry in the coming years. AI has played a crucial role in driving innovations in the healthcare sector, from personalized treatment plans to early disease detection. The integration of AI in healthcare has the potential to revolutionize patient care and improve outcomes.\n",
      "\n",
      "With the growing threat of cyber attacks, AI-powered cybersecurity solutions have become essential in safeguarding sensitive data and networks. The advancements in AI technology have enhanced the ability to detect and prevent cyber threats in real-time. AI-powered robotics and automation have seen significant improvements in 2024, with robots becoming more agile and adaptable to various tasks. This has led to increased efficiency and productivity in industries ranging from manufacturing to logistics.\n",
      "\n",
      "As AI technology continues to advance, the importance of ethics and regulations surrounding its use has become paramount. Companies and policymakers are grappling with the ethical implications of AI, such as bias in algorithms and data privacy concerns.\n",
      "\n",
      "## Key Players in AI Industry\n",
      "The AI industry is dominated by key players such as Google, IBM, Microsoft, Amazon, Tesla, NVIDIA, and OpenAI. These companies are at the forefront of AI innovation, driving advancements in technology and shaping the future of AI applications.\n",
      "\n",
      "## Noteworthy News in AI for 2024\n",
      "AI has revolutionized drug discovery processes, leading to the development of new treatments and therapies for various diseases. The use of AI algorithms has accelerated the drug discovery timeline and improved success rates in clinical trials. E-commerce companies are leveraging AI technology to provide personalized shopping experiences for customers. AI algorithms analyze customer data to recommend products, personalize marketing campaigns, and enhance the overall shopping experience. AI technology is being used to address climate change challenges, from optimizing energy consumption to predicting natural disasters. AI-powered climate change solutions are crucial in mitigating the impact of environmental issues and promoting sustainability.\n",
      "\n",
      "## Target Audience Analysis\n",
      "Tech enthusiasts, business professionals looking to implement AI solutions, and researchers and academics in the field of artificial intelligence are the primary audience for AI advancements in 2024. Staying updated on the latest trends and developments in AI is essential for making informed decisions and staying competitive in the industry.\n",
      "\n",
      "## Conclusion\n",
      "The top 10 advances in artificial intelligence in 2024 are shaping the future of AI technology and its applications across various industries. From quantum computing integration to healthcare innovations, AI is driving unprecedented progress and innovation. By staying informed and engaged with the latest trends in AI, individuals and businesses can harness the power of AI to drive growth and transformation. Stay updated on the latest AI advancements by subscribing to our newsletter for monthly insights and analysis.\n",
      "\n",
      "In conclusion, the advancements in AI in 2024 are paving the way for a future where AI-powered solutions are commonplace and transformative in our daily lives. The key trends, key players, and noteworthy news in AI are indicative of the rapid progress and innovation in the industry. As we navigate the complexities and possibilities of AI technology, staying informed and engaged with the latest developments is crucial for unlocking the full potential of AI in our society.\n",
      "\n",
      "\u001b[00m\n"
     ]
    }
   ],
   "source": [
    "topic = \"Top 10 Advances in Artificial Intelligence in 2024\"   #\"YOUR TOPIC HERE\"\n",
    "result = crew.kickoff(inputs={\"topic\": topic})"
   ]
  },
  {
   "cell_type": "code",
   "execution_count": 14,
   "metadata": {
    "height": 30
   },
   "outputs": [
    {
     "data": {
      "text/markdown": [
       "# Top 10 Advances in Artificial Intelligence in 2024\n",
       "\n",
       "## Introduction\n",
       "Artificial Intelligence (AI) has been rapidly evolving, pushing boundaries and redefining possibilities in 2024. The advancements in AI technology have been groundbreaking, with key trends shaping the landscape of the industry. From quantum computing integration to enhanced natural language processing, the progress in AI has been remarkable.\n",
       "\n",
       "## Key Trends in AI for 2024\n",
       "One of the most significant advancements in AI in 2024 is the integration of quantum computing. This has revolutionized the capabilities of AI systems, allowing for faster and more complex calculations that were previously unimaginable. AI systems have seen significant improvements in natural language processing, enabling more accurate and nuanced interactions with users. This has paved the way for more sophisticated AI-powered applications in various industries.\n",
       "\n",
       "The development of AI-powered autonomous vehicles has reached new heights in 2024, with increased safety features and improved decision-making capabilities. This has the potential to transform the transportation industry in the coming years. AI has played a crucial role in driving innovations in the healthcare sector, from personalized treatment plans to early disease detection. The integration of AI in healthcare has the potential to revolutionize patient care and improve outcomes.\n",
       "\n",
       "With the growing threat of cyber attacks, AI-powered cybersecurity solutions have become essential in safeguarding sensitive data and networks. The advancements in AI technology have enhanced the ability to detect and prevent cyber threats in real-time. AI-powered robotics and automation have seen significant improvements in 2024, with robots becoming more agile and adaptable to various tasks. This has led to increased efficiency and productivity in industries ranging from manufacturing to logistics.\n",
       "\n",
       "As AI technology continues to advance, the importance of ethics and regulations surrounding its use has become paramount. Companies and policymakers are grappling with the ethical implications of AI, such as bias in algorithms and data privacy concerns.\n",
       "\n",
       "## Key Players in AI Industry\n",
       "The AI industry is dominated by key players such as Google, IBM, Microsoft, Amazon, Tesla, NVIDIA, and OpenAI. These companies are at the forefront of AI innovation, driving advancements in technology and shaping the future of AI applications.\n",
       "\n",
       "## Noteworthy News in AI for 2024\n",
       "AI has revolutionized drug discovery processes, leading to the development of new treatments and therapies for various diseases. The use of AI algorithms has accelerated the drug discovery timeline and improved success rates in clinical trials. E-commerce companies are leveraging AI technology to provide personalized shopping experiences for customers. AI algorithms analyze customer data to recommend products, personalize marketing campaigns, and enhance the overall shopping experience. AI technology is being used to address climate change challenges, from optimizing energy consumption to predicting natural disasters. AI-powered climate change solutions are crucial in mitigating the impact of environmental issues and promoting sustainability.\n",
       "\n",
       "## Target Audience Analysis\n",
       "Tech enthusiasts, business professionals looking to implement AI solutions, and researchers and academics in the field of artificial intelligence are the primary audience for AI advancements in 2024. Staying updated on the latest trends and developments in AI is essential for making informed decisions and staying competitive in the industry.\n",
       "\n",
       "## Conclusion\n",
       "The top 10 advances in artificial intelligence in 2024 are shaping the future of AI technology and its applications across various industries. From quantum computing integration to healthcare innovations, AI is driving unprecedented progress and innovation. By staying informed and engaged with the latest trends in AI, individuals and businesses can harness the power of AI to drive growth and transformation. Stay updated on the latest AI advancements by subscribing to our newsletter for monthly insights and analysis.\n",
       "\n",
       "In conclusion, the advancements in AI in 2024 are paving the way for a future where AI-powered solutions are commonplace and transformative in our daily lives. The key trends, key players, and noteworthy news in AI are indicative of the rapid progress and innovation in the industry. As we navigate the complexities and possibilities of AI technology, staying informed and engaged with the latest developments is crucial for unlocking the full potential of AI in our society."
      ],
      "text/plain": [
       "<IPython.core.display.Markdown object>"
      ]
     },
     "execution_count": 14,
     "metadata": {},
     "output_type": "execute_result"
    }
   ],
   "source": [
    "Markdown(result)"
   ]
  },
  {
   "cell_type": "markdown",
   "metadata": {},
   "source": [
    "<a name='1'></a>\n",
    " ## Other Popular Models as LLM for your Agents"
   ]
  },
  {
   "cell_type": "markdown",
   "metadata": {},
   "source": [
    "#### Hugging Face (HuggingFaceHub endpoint)\n",
    "\n",
    "```Python\n",
    "from langchain_community.llms import HuggingFaceHub\n",
    "\n",
    "llm = HuggingFaceHub(\n",
    "    repo_id=\"HuggingFaceH4/zephyr-7b-beta\",\n",
    "    huggingfacehub_api_token=\"<HF_TOKEN_HERE>\",\n",
    "    task=\"text-generation\",\n",
    ")\n",
    "\n",
    "### you will pass \"llm\" to your agent function\n",
    "```"
   ]
  },
  {
   "cell_type": "markdown",
   "metadata": {},
   "source": [
    "#### Mistral API\n",
    "\n",
    "```Python\n",
    "OPENAI_API_KEY=your-mistral-api-key\n",
    "OPENAI_API_BASE=https://api.mistral.ai/v1\n",
    "OPENAI_MODEL_NAME=\"mistral-small\"\n",
    "```"
   ]
  },
  {
   "cell_type": "markdown",
   "metadata": {},
   "source": [
    "#### Cohere\n",
    "\n",
    "```Python\n",
    "from langchain_community.chat_models import ChatCohere\n",
    "# Initialize language model\n",
    "os.environ[\"COHERE_API_KEY\"] = \"your-cohere-api-key\"\n",
    "llm = ChatCohere()\n",
    "\n",
    "### you will pass \"llm\" to your agent function\n",
    "```"
   ]
  },
  {
   "cell_type": "markdown",
   "metadata": {},
   "source": [
    "### For using Llama locally with Ollama and more, checkout the crewAI documentation on [Connecting to any LLM](https://docs.crewai.com/how-to/LLM-Connections/)."
   ]
  },
  {
   "cell_type": "code",
   "execution_count": null,
   "metadata": {
    "height": 30
   },
   "outputs": [],
   "source": []
  },
  {
   "cell_type": "code",
   "execution_count": null,
   "metadata": {
    "height": 30
   },
   "outputs": [],
   "source": []
  },
  {
   "cell_type": "code",
   "execution_count": null,
   "metadata": {
    "height": 30
   },
   "outputs": [],
   "source": []
  }
 ],
 "metadata": {
  "colab": {
   "gpuType": "T4",
   "provenance": []
  },
  "kernelspec": {
   "display_name": "Python 3 (ipykernel)",
   "language": "python",
   "name": "python3"
  },
  "language_info": {
   "codemirror_mode": {
    "name": "ipython",
    "version": 3
   },
   "file_extension": ".py",
   "mimetype": "text/x-python",
   "name": "python",
   "nbconvert_exporter": "python",
   "pygments_lexer": "ipython3",
   "version": "3.11.9"
  }
 },
 "nbformat": 4,
 "nbformat_minor": 4
}
